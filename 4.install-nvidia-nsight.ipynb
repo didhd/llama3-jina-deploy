{
 "cells": [
  {
   "cell_type": "markdown",
   "metadata": {},
   "source": [
    "# Installing NVIDIA Nsight Systems 2024.4 on Amazon Linux 2\n",
    "\n",
    "This notebook provides step-by-step instructions to install NVIDIA Nsight Systems 2024.4 on Amazon Linux 2."
   ]
  },
  {
   "cell_type": "code",
   "execution_count": null,
   "metadata": {
    "tags": []
   },
   "outputs": [],
   "source": [
    "# Import necessary packages\n",
    "!pip install wget"
   ]
  },
  {
   "cell_type": "code",
   "execution_count": null,
   "metadata": {
    "tags": []
   },
   "outputs": [],
   "source": [
    "# Import the wget module\n",
    "import wget"
   ]
  },
  {
   "cell_type": "markdown",
   "metadata": {},
   "source": [
    "## Download and install Nsight Systems 2024.4"
   ]
  },
  {
   "cell_type": "code",
   "execution_count": null,
   "metadata": {
    "tags": []
   },
   "outputs": [],
   "source": [
    "# Download Nsight Systems 2024.4 RPM package\n",
    "nsight_systems_url = 'https://developer.nvidia.com/downloads/assets/tools/secure/nsight-systems/2024_4/nsight-systems-2024.4.1-2024.4.1.61_3431596-0.x86_64.rpm'\n",
    "output_file = 'nsight-systems-2024.4.1-2024.4.1.61_3431596-0.x86_64.rpm'\n",
    "wget.download(nsight_systems_url, output_file)"
   ]
  },
  {
   "cell_type": "markdown",
   "metadata": {},
   "source": [
    "## Add NVIDIA repository and import GPG key"
   ]
  },
  {
   "cell_type": "code",
   "execution_count": null,
   "metadata": {
    "tags": []
   },
   "outputs": [],
   "source": [
    "%%bash\n",
    "\n",
    "# Add NVIDIA repository and import the GPG key\n",
    "sudo rpm --import https://developer.download.nvidia.com/compute/cuda/repos/ubuntu1804/x86_64/7fa2af80.pub\n",
    "sudo tee /etc/yum.repos.d/nvidia-compute.repo <<EOF\n",
    "[nvidia-compute]\n",
    "name=NVIDIA CUDA\n",
    "baseurl=https://developer.download.nvidia.com/compute/cuda/repos/rhel7/x86_64/\n",
    "enabled=1\n",
    "gpgcheck=1\n",
    "gpgkey=https://developer.download.nvidia.com/compute/cuda/repos/ubuntu1804/x86_64/7fa2af80.pub\n",
    "EOF"
   ]
  },
  {
   "cell_type": "markdown",
   "metadata": {},
   "source": [
    "## Install Nsight Systems"
   ]
  },
  {
   "cell_type": "code",
   "execution_count": null,
   "metadata": {
    "tags": []
   },
   "outputs": [],
   "source": [
    "## Install Nsight Systems Dependencies\n",
    "\n",
    "# Add EPEL repository\n",
    "!sudo amazon-linux-extras install epel -y\n",
    "\n",
    "# Install xcb-util-cursor and other dependencies\n",
    "!sudo yum install -y xcb-util-cursor xcb-util-image xcb-util-keysyms xcb-util-renderutil xcb-util-wm"
   ]
  },
  {
   "cell_type": "code",
   "execution_count": null,
   "metadata": {
    "tags": []
   },
   "outputs": [],
   "source": [
    "# Install Nsight Systems RPM package\n",
    "!sudo yum localinstall -y nsight-systems-2024.4.1-2024.4.1.61_3431596-0.x86_64.rpm"
   ]
  },
  {
   "cell_type": "markdown",
   "metadata": {},
   "source": [
    "## Verify Installation"
   ]
  },
  {
   "cell_type": "code",
   "execution_count": null,
   "metadata": {
    "tags": []
   },
   "outputs": [],
   "source": [
    "# Verify Nsight Systems installation\n",
    "!nsys --version\n",
    "!nsys status -e"
   ]
  },
  {
   "cell_type": "markdown",
   "metadata": {},
   "source": [
    "Nsight Systems 2024.4 is now installed on your Amazon Linux 2 instance. You can start using it to profile your applications."
   ]
  }
 ],
 "metadata": {
  "kernelspec": {
   "display_name": "conda_python3",
   "language": "python",
   "name": "conda_python3"
  },
  "language_info": {
   "codemirror_mode": {
    "name": "ipython",
    "version": 3
   },
   "file_extension": ".py",
   "mimetype": "text/x-python",
   "name": "python",
   "nbconvert_exporter": "python",
   "pygments_lexer": "ipython3",
   "version": "3.10.14"
  }
 },
 "nbformat": 4,
 "nbformat_minor": 4
}
